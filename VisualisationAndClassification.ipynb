{
 "cells": [
  {
   "cell_type": "code",
   "execution_count": 1,
   "metadata": {},
   "outputs": [
    {
     "name": "stderr",
     "output_type": "stream",
     "text": [
      "/home/emre/venv/lib/python3.8/site-packages/sklearn/utils/deprecation.py:143: FutureWarning: The sklearn.neighbors.kde module is  deprecated in version 0.22 and will be removed in version 0.24. The corresponding classes / functions should instead be imported from sklearn.neighbors. Anything that cannot be imported from sklearn.neighbors is now part of the private API.\n",
      "  warnings.warn(message, FutureWarning)\n"
     ]
    }
   ],
   "source": [
    "#import related libraries\n",
    "import numpy as np\n",
    "import IPython\n",
    "import pandas as pd\n",
    "import matplotlib.pyplot as plt\n",
    "%matplotlib inline\n",
    "import seaborn as sns\n",
    "from sklearn.neighbors.kde import KernelDensity\n",
    "from scipy.signal import argrelextrema, find_peaks, savgol_filter\n",
    "from ipywidgets import interact, interactive, fixed, interact_manual\n",
    "import ipywidgets\n",
    "#import dataset\n",
    "data_path = \"dataset/covid_19_data.csv\"\n",
    "dataset = pd.read_csv(data_path)\n",
    "data_path = \"dataset/population.csv\"\n",
    "population = pd.read_csv(data_path)\n",
    "countrys=dataset[\"Country/Region\"].unique()\n",
    "countrys.sort()\n",
    "\n",
    "#Start visualisation \n",
    "country_selection=ipywidgets.Dropdown(\n",
    "    options=countrys,\n",
    "    value='Turkey',\n",
    "    description='Country:',\n",
    "    disabled=False\n",
    ")\n",
    "graph_selection=ipywidgets.RadioButtons(\n",
    "    options=['Change', 'Cummulative'],\n",
    "    value='Cummulative',\n",
    "    description='Graphic:',\n",
    "    disabled=False\n",
    ")\n",
    "perpop_selection=ipywidgets.RadioButtons(\n",
    "    options=['Case Per Population', 'Case Counts'],\n",
    "    #value='Cummulative',\n",
    "    description='Prop.?:',\n",
    "    disabled=False\n",
    ")\n",
    "\n",
    "data_selection=ipywidgets.RadioButtons(\n",
    "    options=['Deaths', 'Recovered', 'Confirmed', 'Active'],\n",
    "    value='Active',\n",
    "    description='Case:',\n",
    "    disabled=False\n",
    ")\n",
    "plot_button=ipywidgets.Button(\n",
    "    description='Plot',\n",
    "    disabled=False,\n",
    "    button_style='', # 'success', 'info', 'warning', 'danger' or ''\n",
    "    tooltip='Generate Graph via Selections',\n",
    "    icon='info'\n",
    ")\n",
    "\n",
    "output = ipywidgets.Output()\n",
    "def on_button_clicked(b):\n",
    "    IPython.display.clear_output()\n",
    "    display(country_selection, graph_selection, data_selection, perpop_selection,plot_button, output)\n",
    "    with output:\n",
    "        selected_country=dataset.loc[dataset[\"Country/Region\"]==country_selection.value]\n",
    "        if graph_selection.value == \"Cummulative\":\n",
    "                plot_data = selected_country[data_selection.value]\n",
    "        else:\n",
    "                plot_data = selected_country[data_selection.value].diff()\n",
    "        if perpop_selection.value == \"Case Per Population\":\n",
    "            plot_data=plot_data / population[population[\"country\"]==country_selection.value].population.iloc[0]\n",
    "    sns.lineplot(y=plot_data,x=selected_country[\"Days\"],label=country_selection.value+data_selection.value+graph_selection.value)  \n",
    "    plt.show()\n",
    "plot_button.on_click(on_button_clicked)\n"
   ]
  },
  {
   "cell_type": "code",
   "execution_count": 2,
   "metadata": {},
   "outputs": [],
   "source": [
    "# insert stage of epidemic column and Peak Day Column\n",
    "def stage_edidemic(country):\n",
    "    x = dataset.loc[dataset[\"Country/Region\"]==country].Active.values\n",
    "    #plt.plot(x,color='red')\n",
    "    if x.size>51:\n",
    "        x = savgol_filter(x, 51, 3)\n",
    "    peaks, _ = find_peaks(x, height=(x.max()/2,x.max()),distance=50)\n",
    "    #plt.plot(x)\n",
    "    if peaks.size != 0 :\n",
    "        dataset.loc[dataset[\"Country/Region\"]==country,\"Peak Day\"]=dataset.loc[dataset[\"Country/Region\"]==country].Days.values[peaks[0]]\n",
    "    if peaks.shape[0] == 0:\n",
    "        dataset.loc[dataset[\"Country/Region\"]==country,\"Stage\"]=\"Begin\"\n",
    "    else:\n",
    "        dataset.loc[dataset[\"Country/Region\"]==country,\"Stage\"]=str(peaks.shape[0])+\". Cycle\"\n",
    "    out=peaks.shape[0]\n",
    "    #plt.plot(peaks, x[peaks], \"x\")\n",
    "    #plt.plot(np.zeros_like(x), \"--\", color=\"gray\")\n",
    "    #plt.show()\n",
    "for c in dataset[\"Country/Region\"].unique():\n",
    "    stage_edidemic(c)"
   ]
  },
  {
   "cell_type": "code",
   "execution_count": null,
   "metadata": {},
   "outputs": [],
   "source": []
  },
  {
   "cell_type": "code",
   "execution_count": 3,
   "metadata": {},
   "outputs": [],
   "source": [
    "# insert Total Confirmed/Deaths Per 1M Population column\n",
    "for c in dataset[\"Country/Region\"].unique():\n",
    "    dataset.loc[dataset[\"Country/Region\"]==c,\"Total Confirmed Per 1M Population\"] = dataset.loc[dataset[\"Country/Region\"]==c][\"Confirmed\"].iloc[-1]*1000000/population[population[\"country\"]==c].population.iloc[0]\n",
    "    dataset.loc[dataset[\"Country/Region\"]==c,\"Total Deaths Per Population 1M\"] = dataset.loc[dataset[\"Country/Region\"]==c][\"Deaths\"].iloc[-1]*1000000/population[population[\"country\"]==c].population.iloc[0]\n",
    "\n",
    "d = { 'Total Confirmed Per 1M Population': dataset.drop_duplicates(\"Country/Region\")[\"Total Confirmed Per 1M Population\"],'Total Deaths Per Population 1M':dataset.drop_duplicates(\"Country/Region\")[\"Total Deaths Per Population 1M\"]}\n",
    "dataset2 = pd.DataFrame(data=d)\n",
    "for c in population.loc[population.population<1000000].country:\n",
    "    dataset2=dataset2.loc[dataset[\"Country/Region\"]!=c]\n",
    "    dataset2=dataset2.loc[dataset[\"Total Confirmed Per 1M Population\"]!=0]\n",
    "    dataset2=dataset2.loc[dataset[\"Total Deaths Per Population 1M\"]!=0]"
   ]
  },
  {
   "cell_type": "code",
   "execution_count": 4,
   "metadata": {},
   "outputs": [],
   "source": [
    "#Kernel Density Estimation for classifying Total Confirmed/Deaths Per 1M Population \n",
    "def KDE(col,b):\n",
    "    ds2= dataset2.sort_values(by=col)\n",
    "    x=dataset2[col].values\n",
    "    y=int(ds2[col].iloc[:-2].describe().max())\n",
    "    #b=int(dataset2[col].mean()/2)\n",
    "    #print(\"y:\",y,\"b:\",b)\n",
    "    a = x.reshape(-1, 1)\n",
    "    kde = KernelDensity(kernel='gaussian', bandwidth=b).fit(a)\n",
    "    s = np.linspace(0,y,y)\n",
    "    e = kde.score_samples(s.reshape(-1,1))\n",
    "    #print(\"e:\",e)\n",
    "    mi, ma = argrelextrema(e, np.less)[0], argrelextrema(e, np.greater)[0]\n",
    "    #print (\"Minima:\", s[mi])\n",
    "    #print (\"Maxima:\", s[ma])\n",
    "    #print (a[a < mi[0]], a[(a >= mi[0]) * (a <= mi[1])], a[a >= mi[1]])\n",
    "    plt.plot(s[:mi[0]+1], e[:mi[0]+1], 'r',\n",
    "         s[mi[0]:mi[1]+1], e[mi[0]:mi[1]+1], 'g',\n",
    "         s[mi[1]:], e[mi[1]:], 'b',\n",
    "         s[ma], e[ma], 'go',\n",
    "         s[mi], e[mi], 'ro')\n",
    "    return a[a < mi[0]], a[(a >= mi[0]) * (a <= mi[1])], a[a >= mi[1]] # low mid high\n"
   ]
  },
  {
   "cell_type": "code",
   "execution_count": 5,
   "metadata": {},
   "outputs": [
    {
     "name": "stdout",
     "output_type": "stream",
     "text": [
      "KDE of Total Deaths Per Population 1M\n"
     ]
    },
    {
     "data": {
      "image/png": "[encoded data removed]",
      "text/plain": [
       "<Figure size 432x288 with 1 Axes>"
      ]
     },
     "metadata": {
      "needs_background": "light"
     },
     "output_type": "display_data"
    }
   ],
   "source": [
    "print(\"KDE of Total Deaths Per Population 1M\")\n",
    "low,mid,high = KDE(\"Total Deaths Per Population 1M\",int(dataset2[\"Total Deaths Per Population 1M\"].mean()/20))#b=int(dataset2[col].mean())\n",
    "for c in low:\n",
    "    dataset.loc[dataset[\"Total Deaths Per Population 1M\"]==c,\"Death State\"]=\"Low\"\n",
    "for c in mid:\n",
    "    dataset.loc[dataset[\"Total Deaths Per Population 1M\"]==c,\"Death State\"]=\"Mid\"\n",
    "for c in high:\n",
    "    dataset.loc[dataset[\"Total Deaths Per Population 1M\"]==c,\"Death State\"]=\"High\"\n"
   ]
  },
  {
   "cell_type": "code",
   "execution_count": 6,
   "metadata": {},
   "outputs": [
    {
     "name": "stdout",
     "output_type": "stream",
     "text": [
      "KDE of Total Confirmed Per Population 1M\n"
     ]
    },
    {
     "data": {
      "image/png": "[encoded data removed]",
      "text/plain": [
       "<Figure size 432x288 with 1 Axes>"
      ]
     },
     "metadata": {
      "needs_background": "light"
     },
     "output_type": "display_data"
    }
   ],
   "source": [
    "print(\"KDE of Total Confirmed Per Population 1M\")\n",
    "low,mid,high = KDE(\"Total Confirmed Per 1M Population\",int(dataset2[\"Total Confirmed Per 1M Population\"].mean()/6))#b=int(dataset2[col].mean())\n",
    "for c in low:\n",
    "    dataset.loc[dataset[\"Total Confirmed Per 1M Population\"]==c,\"Conf. State\"]=\"Low\"\n",
    "for c in mid:\n",
    "    dataset.loc[dataset[\"Total Confirmed Per 1M Population\"]==c,\"Conf. State\"]=\"Mid\"\n",
    "for c in high:\n",
    "    dataset.loc[dataset[\"Total Confirmed Per 1M Population\"]==c,\"Conf. State\"]=\"High\"\n"
   ]
  },
  {
   "cell_type": "code",
   "execution_count": 7,
   "metadata": {},
   "outputs": [
    {
     "data": {
      "application/vnd.jupyter.widget-view+json": {
       "model_id": "ecae74e94f0c49b8acde3bbe3e75d479",
       "version_major": 2,
       "version_minor": 0
      },
      "text/plain": [
       "Dropdown(description='Country:', index=163, options=('Afghanistan', 'Albania', 'Algeria', 'Andorra', 'Antigua …"
      ]
     },
     "metadata": {},
     "output_type": "display_data"
    },
    {
     "data": {
      "application/vnd.jupyter.widget-view+json": {
       "model_id": "7ffc92247b3844b9a2dab87d3709d06b",
       "version_major": 2,
       "version_minor": 0
      },
      "text/plain": [
       "RadioButtons(description='Graphic:', index=1, options=('Change', 'Cummulative'), value='Cummulative')"
      ]
     },
     "metadata": {},
     "output_type": "display_data"
    },
    {
     "data": {
      "application/vnd.jupyter.widget-view+json": {
       "model_id": "71420dc8f1264dba8f2d1baabf033e1c",
       "version_major": 2,
       "version_minor": 0
      },
      "text/plain": [
       "RadioButtons(description='Case:', index=3, options=('Deaths', 'Recovered', 'Confirmed', 'Active'), value='Acti…"
      ]
     },
     "metadata": {},
     "output_type": "display_data"
    },
    {
     "data": {
      "application/vnd.jupyter.widget-view+json": {
       "model_id": "07a05972edcb45c6b0d7890cbd6338ed",
       "version_major": 2,
       "version_minor": 0
      },
      "text/plain": [
       "RadioButtons(description='Prop.?:', options=('Case Per Population', 'Case Counts'), value='Case Per Population…"
      ]
     },
     "metadata": {},
     "output_type": "display_data"
    },
    {
     "data": {
      "application/vnd.jupyter.widget-view+json": {
       "model_id": "1ea3bda67ae840e2a9f39128bc5a8acd",
       "version_major": 2,
       "version_minor": 0
      },
      "text/plain": [
       "Button(description='Plot', icon='info', style=ButtonStyle(), tooltip='Generate Graph via Selections')"
      ]
     },
     "metadata": {},
     "output_type": "display_data"
    },
    {
     "data": {
      "application/vnd.jupyter.widget-view+json": {
       "model_id": "8dda121ca63b4a86b2c7b0845a24e7f5",
       "version_major": 2,
       "version_minor": 0
      },
      "text/plain": [
       "Output()"
      ]
     },
     "metadata": {},
     "output_type": "display_data"
    }
   ],
   "source": [
    "display(country_selection, graph_selection, data_selection, perpop_selection,plot_button, output)"
   ]
  },
  {
   "cell_type": "code",
   "execution_count": 8,
   "metadata": {},
   "outputs": [],
   "source": [
    "#########Result##############\n",
    "country_sel=ipywidgets.Dropdown(\n",
    "    options=countrys,\n",
    "    value='Turkey',\n",
    "    description='Country:',\n",
    "    disabled=False\n",
    ")\n",
    "classificate=ipywidgets.RadioButtons(\n",
    "    options=['Stage', 'Peak Day', 'Death State', 'Conf. State'],\n",
    "    value='Stage',\n",
    "    description='Classification:',\n",
    "    disabled=False\n",
    ")\n",
    "result=ipywidgets.Button(\n",
    "    description='Result',\n",
    "    disabled=False,\n",
    "    button_style='',\n",
    "    icon='info'\n",
    ")\n",
    "output2 = ipywidgets.Output()\n",
    "def on_button_clicked2(b):\n",
    "    IPython.display.clear_output()\n",
    "    display(country_sel, classificate, result, output2)\n",
    "    country=dataset.loc[dataset[\"Country/Region\"]==country_sel.value]\n",
    "    cls= country[classificate.value]\n",
    "    \n",
    "    IPython.display.display(str(classificate.value)+\" of \"+country_sel.value+\" is \"+str(cls.iloc[0]))\n",
    "    IPython.display.display(\"Countries they have same: \"+classificate.value+\" with \"+country_sel.value+\";\")\n",
    "    samecountries=dataset.loc[dataset[classificate.value]==cls.iloc[0]][\"Country/Region\"].unique()\n",
    "    IPython.display.display(samecountries)\n",
    "    IPython.display.display(dataset.loc[dataset[classificate.value]==dataset.loc[dataset[\"Country/Region\"]==country_sel.value][classificate.value].values[0]].drop_duplicates(\"Country/Region\"))\n",
    "    \n",
    "result.on_click(on_button_clicked2)"
   ]
  },
  {
   "cell_type": "code",
   "execution_count": 9,
   "metadata": {},
   "outputs": [
    {
     "data": {
      "application/vnd.jupyter.widget-view+json": {
       "model_id": "58880f7bd6aa4d7ba56300b0058c1600",
       "version_major": 2,
       "version_minor": 0
      },
      "text/plain": [
       "Dropdown(description='Country:', index=163, options=('Afghanistan', 'Albania', 'Algeria', 'Andorra', 'Antigua …"
      ]
     },
     "metadata": {},
     "output_type": "display_data"
    },
    {
     "data": {
      "application/vnd.jupyter.widget-view+json": {
       "model_id": "d29295399b2740d0873d141440c6e58f",
       "version_major": 2,
       "version_minor": 0
      },
      "text/plain": [
       "RadioButtons(description='Classification:', options=('Stage', 'Peak Day', 'Death State', 'Conf. State'), value…"
      ]
     },
     "metadata": {},
     "output_type": "display_data"
    },
    {
     "data": {
      "application/vnd.jupyter.widget-view+json": {
       "model_id": "c4f070b844a2412485465c4114562652",
       "version_major": 2,
       "version_minor": 0
      },
      "text/plain": [
       "Button(description='Result', icon='info', style=ButtonStyle())"
      ]
     },
     "metadata": {},
     "output_type": "display_data"
    },
    {
     "data": {
      "application/vnd.jupyter.widget-view+json": {
       "model_id": "df6e0700be204a69adf2c146ff7761a1",
       "version_major": 2,
       "version_minor": 0
      },
      "text/plain": [
       "Output()"
      ]
     },
     "metadata": {},
     "output_type": "display_data"
    },
    {
     "data": {
      "text/plain": [
       "'Stage of Turkey is 1. Cycle'"
      ]
     },
     "metadata": {},
     "output_type": "display_data"
    },
    {
     "data": {
      "text/plain": [
       "'Countries they have same: Stage with Turkey;'"
      ]
     },
     "metadata": {},
     "output_type": "display_data"
    },
    {
     "data": {
      "text/plain": [
       "array(['Hong Kong', 'Thailand', 'South Korea', 'Singapore', 'Malaysia',\n",
       "       'Vietnam', 'Cambodia', 'Sri Lanka', 'Finland',\n",
       "       'United Arab Emirates', 'Bahrain', 'Kuwait', 'Algeria', 'Croatia',\n",
       "       'Switzerland', 'Georgia', 'Norway', 'Romania', 'Estonia',\n",
       "       'San Marino', 'Belarus', 'Iceland', 'Lithuania', 'New Zealand',\n",
       "       'Ireland', 'Luxembourg', 'Monaco', 'Qatar', 'Ecuador',\n",
       "       'Czech Republic', 'Dominican Republic', 'Portugal', 'Andorra',\n",
       "       'Latvia', 'Morocco', 'Saudi Arabia', 'Senegal', 'Jordan',\n",
       "       'Hungary', 'Liechtenstein', 'Tunisia', 'Bosnia and Herzegovina',\n",
       "       'Slovenia', 'Costa Rica', 'Serbia', 'Slovakia', 'Togo', 'Malta',\n",
       "       'Bulgaria', 'Maldives', 'Paraguay', 'Albania', 'Cyprus', 'Brunei',\n",
       "       'Burkina Faso', 'Holy See', 'Mongolia', 'Panama', 'Jamaica',\n",
       "       'Turkey', 'Cuba', 'Guyana', 'Kazakhstan', 'Sudan', 'Guinea',\n",
       "       'Antigua and Barbuda', 'Uruguay', 'Namibia', 'Seychelles',\n",
       "       'Trinidad and Tobago', 'Eswatini', 'Rwanda', 'Saint Lucia',\n",
       "       'Saint Vincent and the Grenadines', 'Kosovo', 'Equatorial Guinea',\n",
       "       'Uzbekistan', 'Benin', 'Tanzania', 'Barbados', 'Montenegro',\n",
       "       'Kyrgyzstan', 'Mauritius', 'Zambia', 'Djibouti', 'Chad', 'Fiji',\n",
       "       'Nicaragua', 'Niger', 'Eritrea', 'Bahamas', 'Dominica', 'Gambia',\n",
       "       'Grenada', 'Timor-Leste', 'Belize', 'Laos', 'Guinea-Bissau',\n",
       "       'Saint Kitts and Nevis', 'Australia', 'Austria', 'Canada', 'Chile',\n",
       "       'Denmark', 'France', 'Germany', 'Israel', 'Italy', 'Japan',\n",
       "       'Lebanon', 'Mainland China', 'Russia', 'Spain', 'Taiwan'],\n",
       "      dtype=object)"
      ]
     },
     "metadata": {},
     "output_type": "display_data"
    },
    {
     "data": {
      "text/html": [
       "<div>\n",
       "<style scoped>\n",
       "    .dataframe tbody tr th:only-of-type {\n",
       "        vertical-align: middle;\n",
       "    }\n",
       "\n",
       "    .dataframe tbody tr th {\n",
       "        vertical-align: top;\n",
       "    }\n",
       "\n",
       "    .dataframe thead th {\n",
       "        text-align: right;\n",
       "    }\n",
       "</style>\n",
       "<table border=\"1\" class=\"dataframe\">\n",
       "  <thead>\n",
       "    <tr style=\"text-align: right;\">\n",
       "      <th></th>\n",
       "      <th>SNo</th>\n",
       "      <th>ObservationDate</th>\n",
       "      <th>Country/Region</th>\n",
       "      <th>Last Update</th>\n",
       "      <th>Confirmed</th>\n",
       "      <th>Deaths</th>\n",
       "      <th>Recovered</th>\n",
       "      <th>Active</th>\n",
       "      <th>First</th>\n",
       "      <th>Days</th>\n",
       "      <th>Peak Day</th>\n",
       "      <th>Stage</th>\n",
       "      <th>Total Confirmed Per 1M Population</th>\n",
       "      <th>Total Deaths Per Population 1M</th>\n",
       "      <th>Death State</th>\n",
       "      <th>Conf. State</th>\n",
       "    </tr>\n",
       "  </thead>\n",
       "  <tbody>\n",
       "    <tr>\n",
       "      <th>0</th>\n",
       "      <td>13</td>\n",
       "      <td>01/22/2020</td>\n",
       "      <td>Hong Kong</td>\n",
       "      <td>1/22/2020 17:00</td>\n",
       "      <td>0.0</td>\n",
       "      <td>0.0</td>\n",
       "      <td>0.0</td>\n",
       "      <td>0.0</td>\n",
       "      <td>01/22/2020</td>\n",
       "      <td>1</td>\n",
       "      <td>79.0</td>\n",
       "      <td>1. Cycle</td>\n",
       "      <td>147.926212</td>\n",
       "      <td>0.533548</td>\n",
       "      <td>Low</td>\n",
       "      <td>Low</td>\n",
       "    </tr>\n",
       "    <tr>\n",
       "      <th>1</th>\n",
       "      <td>37</td>\n",
       "      <td>01/22/2020</td>\n",
       "      <td>Thailand</td>\n",
       "      <td>1/22/2020 17:00</td>\n",
       "      <td>2.0</td>\n",
       "      <td>0.0</td>\n",
       "      <td>0.0</td>\n",
       "      <td>2.0</td>\n",
       "      <td>01/22/2020</td>\n",
       "      <td>1</td>\n",
       "      <td>76.0</td>\n",
       "      <td>1. Cycle</td>\n",
       "      <td>44.914054</td>\n",
       "      <td>0.830946</td>\n",
       "      <td>Low</td>\n",
       "      <td>Low</td>\n",
       "    </tr>\n",
       "    <tr>\n",
       "      <th>2</th>\n",
       "      <td>38</td>\n",
       "      <td>01/22/2020</td>\n",
       "      <td>South Korea</td>\n",
       "      <td>1/22/2020 17:00</td>\n",
       "      <td>1.0</td>\n",
       "      <td>0.0</td>\n",
       "      <td>0.0</td>\n",
       "      <td>1.0</td>\n",
       "      <td>01/22/2020</td>\n",
       "      <td>1</td>\n",
       "      <td>55.0</td>\n",
       "      <td>1. Cycle</td>\n",
       "      <td>236.418816</td>\n",
       "      <td>5.402856</td>\n",
       "      <td>Low</td>\n",
       "      <td>Low</td>\n",
       "    </tr>\n",
       "    <tr>\n",
       "      <th>6</th>\n",
       "      <td>77</td>\n",
       "      <td>01/23/2020</td>\n",
       "      <td>Singapore</td>\n",
       "      <td>1/23/20 17:00</td>\n",
       "      <td>1.0</td>\n",
       "      <td>0.0</td>\n",
       "      <td>0.0</td>\n",
       "      <td>1.0</td>\n",
       "      <td>01/23/2020</td>\n",
       "      <td>1</td>\n",
       "      <td>111.0</td>\n",
       "      <td>1. Cycle</td>\n",
       "      <td>6940.448952</td>\n",
       "      <td>4.444185</td>\n",
       "      <td>Low</td>\n",
       "      <td>High</td>\n",
       "    </tr>\n",
       "    <tr>\n",
       "      <th>8</th>\n",
       "      <td>79</td>\n",
       "      <td>01/23/2020</td>\n",
       "      <td>Malaysia</td>\n",
       "      <td>1/23/20 17:00</td>\n",
       "      <td>0.0</td>\n",
       "      <td>0.0</td>\n",
       "      <td>0.0</td>\n",
       "      <td>0.0</td>\n",
       "      <td>01/23/2020</td>\n",
       "      <td>1</td>\n",
       "      <td>79.0</td>\n",
       "      <td>1. Cycle</td>\n",
       "      <td>261.169136</td>\n",
       "      <td>3.738491</td>\n",
       "      <td>Low</td>\n",
       "      <td>Low</td>\n",
       "    </tr>\n",
       "    <tr>\n",
       "      <th>...</th>\n",
       "      <td>...</td>\n",
       "      <td>...</td>\n",
       "      <td>...</td>\n",
       "      <td>...</td>\n",
       "      <td>...</td>\n",
       "      <td>...</td>\n",
       "      <td>...</td>\n",
       "      <td>...</td>\n",
       "      <td>...</td>\n",
       "      <td>...</td>\n",
       "      <td>...</td>\n",
       "      <td>...</td>\n",
       "      <td>...</td>\n",
       "      <td>...</td>\n",
       "      <td>...</td>\n",
       "      <td>...</td>\n",
       "    </tr>\n",
       "    <tr>\n",
       "      <th>16475</th>\n",
       "      <td>2013</td>\n",
       "      <td>02/21/2020</td>\n",
       "      <td>Lebanon</td>\n",
       "      <td>2020-02-21T15:33:03</td>\n",
       "      <td>1.0</td>\n",
       "      <td>0.0</td>\n",
       "      <td>0.0</td>\n",
       "      <td>1.0</td>\n",
       "      <td>02/21/2020</td>\n",
       "      <td>1</td>\n",
       "      <td>72.0</td>\n",
       "      <td>1. Cycle</td>\n",
       "      <td>211.854319</td>\n",
       "      <td>4.688339</td>\n",
       "      <td>Low</td>\n",
       "      <td>Low</td>\n",
       "    </tr>\n",
       "    <tr>\n",
       "      <th>16590</th>\n",
       "      <td>1</td>\n",
       "      <td>01/22/2020</td>\n",
       "      <td>Mainland China</td>\n",
       "      <td>1/22/2020 17:00</td>\n",
       "      <td>547.0</td>\n",
       "      <td>17.0</td>\n",
       "      <td>28.0</td>\n",
       "      <td>502.0</td>\n",
       "      <td>01/22/2020</td>\n",
       "      <td>1</td>\n",
       "      <td>30.0</td>\n",
       "      <td>1. Cycle</td>\n",
       "      <td>57.492263</td>\n",
       "      <td>3.202885</td>\n",
       "      <td>Low</td>\n",
       "      <td>Low</td>\n",
       "    </tr>\n",
       "    <tr>\n",
       "      <th>17164</th>\n",
       "      <td>483</td>\n",
       "      <td>01/31/2020</td>\n",
       "      <td>Russia</td>\n",
       "      <td>1/31/2020 23:59</td>\n",
       "      <td>2.0</td>\n",
       "      <td>0.0</td>\n",
       "      <td>0.0</td>\n",
       "      <td>2.0</td>\n",
       "      <td>01/31/2020</td>\n",
       "      <td>1</td>\n",
       "      <td>128.0</td>\n",
       "      <td>1. Cycle</td>\n",
       "      <td>3619.892058</td>\n",
       "      <td>47.541889</td>\n",
       "      <td>High</td>\n",
       "      <td>High</td>\n",
       "    </tr>\n",
       "    <tr>\n",
       "      <th>17300</th>\n",
       "      <td>552</td>\n",
       "      <td>02/01/2020</td>\n",
       "      <td>Spain</td>\n",
       "      <td>2/1/2020 2:13</td>\n",
       "      <td>1.0</td>\n",
       "      <td>0.0</td>\n",
       "      <td>0.0</td>\n",
       "      <td>1.0</td>\n",
       "      <td>02/01/2020</td>\n",
       "      <td>1</td>\n",
       "      <td>76.0</td>\n",
       "      <td>1. Cycle</td>\n",
       "      <td>5217.178018</td>\n",
       "      <td>580.389880</td>\n",
       "      <td>High</td>\n",
       "      <td>High</td>\n",
       "    </tr>\n",
       "    <tr>\n",
       "      <th>17571</th>\n",
       "      <td>29</td>\n",
       "      <td>01/22/2020</td>\n",
       "      <td>Taiwan</td>\n",
       "      <td>1/22/2020 17:00</td>\n",
       "      <td>1.0</td>\n",
       "      <td>0.0</td>\n",
       "      <td>0.0</td>\n",
       "      <td>1.0</td>\n",
       "      <td>01/22/2020</td>\n",
       "      <td>1</td>\n",
       "      <td>77.0</td>\n",
       "      <td>1. Cycle</td>\n",
       "      <td>18.600335</td>\n",
       "      <td>0.293910</td>\n",
       "      <td>Low</td>\n",
       "      <td>Low</td>\n",
       "    </tr>\n",
       "  </tbody>\n",
       "</table>\n",
       "<p>114 rows × 16 columns</p>\n",
       "</div>"
      ],
      "text/plain": [
       "        SNo ObservationDate  Country/Region          Last Update  Confirmed  \\\n",
       "0        13      01/22/2020       Hong Kong      1/22/2020 17:00        0.0   \n",
       "1        37      01/22/2020        Thailand      1/22/2020 17:00        2.0   \n",
       "2        38      01/22/2020     South Korea      1/22/2020 17:00        1.0   \n",
       "6        77      01/23/2020       Singapore        1/23/20 17:00        1.0   \n",
       "8        79      01/23/2020        Malaysia        1/23/20 17:00        0.0   \n",
       "...     ...             ...             ...                  ...        ...   \n",
       "16475  2013      02/21/2020         Lebanon  2020-02-21T15:33:03        1.0   \n",
       "16590     1      01/22/2020  Mainland China      1/22/2020 17:00      547.0   \n",
       "17164   483      01/31/2020          Russia      1/31/2020 23:59        2.0   \n",
       "17300   552      02/01/2020           Spain        2/1/2020 2:13        1.0   \n",
       "17571    29      01/22/2020          Taiwan      1/22/2020 17:00        1.0   \n",
       "\n",
       "       Deaths  Recovered  Active       First  Days  Peak Day     Stage  \\\n",
       "0         0.0        0.0     0.0  01/22/2020     1      79.0  1. Cycle   \n",
       "1         0.0        0.0     2.0  01/22/2020     1      76.0  1. Cycle   \n",
       "2         0.0        0.0     1.0  01/22/2020     1      55.0  1. Cycle   \n",
       "6         0.0        0.0     1.0  01/23/2020     1     111.0  1. Cycle   \n",
       "8         0.0        0.0     0.0  01/23/2020     1      79.0  1. Cycle   \n",
       "...       ...        ...     ...         ...   ...       ...       ...   \n",
       "16475     0.0        0.0     1.0  02/21/2020     1      72.0  1. Cycle   \n",
       "16590    17.0       28.0   502.0  01/22/2020     1      30.0  1. Cycle   \n",
       "17164     0.0        0.0     2.0  01/31/2020     1     128.0  1. Cycle   \n",
       "17300     0.0        0.0     1.0  02/01/2020     1      76.0  1. Cycle   \n",
       "17571     0.0        0.0     1.0  01/22/2020     1      77.0  1. Cycle   \n",
       "\n",
       "       Total Confirmed Per 1M Population  Total Deaths Per Population 1M  \\\n",
       "0                             147.926212                        0.533548   \n",
       "1                              44.914054                        0.830946   \n",
       "2                             236.418816                        5.402856   \n",
       "6                            6940.448952                        4.444185   \n",
       "8                             261.169136                        3.738491   \n",
       "...                                  ...                             ...   \n",
       "16475                         211.854319                        4.688339   \n",
       "16590                          57.492263                        3.202885   \n",
       "17164                        3619.892058                       47.541889   \n",
       "17300                        5217.178018                      580.389880   \n",
       "17571                          18.600335                        0.293910   \n",
       "\n",
       "      Death State Conf. State  \n",
       "0             Low         Low  \n",
       "1             Low         Low  \n",
       "2             Low         Low  \n",
       "6             Low        High  \n",
       "8             Low         Low  \n",
       "...           ...         ...  \n",
       "16475         Low         Low  \n",
       "16590         Low         Low  \n",
       "17164        High        High  \n",
       "17300        High        High  \n",
       "17571         Low         Low  \n",
       "\n",
       "[114 rows x 16 columns]"
      ]
     },
     "metadata": {},
     "output_type": "display_data"
    }
   ],
   "source": [
    "display(country_sel, classificate, result, output2)\n"
   ]
  }
 ],
 "metadata": {
  "kernelspec": {
   "display_name": "Python 3",
   "language": "python",
   "name": "python3"
  },
  "language_info": {
   "codemirror_mode": {
    "name": "ipython",
    "version": 3
   },
   "file_extension": ".py",
   "mimetype": "text/x-python",
   "name": "python",
   "nbconvert_exporter": "python",
   "pygments_lexer": "ipython3",
   "version": "3.8.2"
  }
 },
 "nbformat": 4,
 "nbformat_minor": 4
}
