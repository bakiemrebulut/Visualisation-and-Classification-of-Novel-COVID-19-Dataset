{
 "cells": [
  {
   "cell_type": "code",
   "execution_count": 1,
   "metadata": {},
   "outputs": [
    {
     "data": {
      "text/html": [
       "<div>\n",
       "<style scoped>\n",
       "    .dataframe tbody tr th:only-of-type {\n",
       "        vertical-align: middle;\n",
       "    }\n",
       "\n",
       "    .dataframe tbody tr th {\n",
       "        vertical-align: top;\n",
       "    }\n",
       "\n",
       "    .dataframe thead th {\n",
       "        text-align: right;\n",
       "    }\n",
       "</style>\n",
       "<table border=\"1\" class=\"dataframe\">\n",
       "  <thead>\n",
       "    <tr style=\"text-align: right;\">\n",
       "      <th></th>\n",
       "      <th>SNo</th>\n",
       "      <th>ObservationDate</th>\n",
       "      <th>Province/State</th>\n",
       "      <th>Country/Region</th>\n",
       "      <th>Last Update</th>\n",
       "      <th>Confirmed</th>\n",
       "      <th>Deaths</th>\n",
       "      <th>Recovered</th>\n",
       "    </tr>\n",
       "  </thead>\n",
       "  <tbody>\n",
       "    <tr>\n",
       "      <th>42248</th>\n",
       "      <td>42249</td>\n",
       "      <td>06/14/2020</td>\n",
       "      <td>Xinjiang</td>\n",
       "      <td>Mainland China</td>\n",
       "      <td>2020-06-15 03:33:14</td>\n",
       "      <td>76.0</td>\n",
       "      <td>3.0</td>\n",
       "      <td>73.0</td>\n",
       "    </tr>\n",
       "    <tr>\n",
       "      <th>42256</th>\n",
       "      <td>42257</td>\n",
       "      <td>06/14/2020</td>\n",
       "      <td>Yunnan</td>\n",
       "      <td>Mainland China</td>\n",
       "      <td>2020-06-15 03:33:14</td>\n",
       "      <td>185.0</td>\n",
       "      <td>2.0</td>\n",
       "      <td>183.0</td>\n",
       "    </tr>\n",
       "    <tr>\n",
       "      <th>42261</th>\n",
       "      <td>42262</td>\n",
       "      <td>06/14/2020</td>\n",
       "      <td>Zhejiang</td>\n",
       "      <td>Mainland China</td>\n",
       "      <td>2020-06-15 03:33:14</td>\n",
       "      <td>1268.0</td>\n",
       "      <td>1.0</td>\n",
       "      <td>1267.0</td>\n",
       "    </tr>\n",
       "  </tbody>\n",
       "</table>\n",
       "</div>"
      ],
      "text/plain": [
       "         SNo ObservationDate Province/State  Country/Region  \\\n",
       "42248  42249      06/14/2020       Xinjiang  Mainland China   \n",
       "42256  42257      06/14/2020         Yunnan  Mainland China   \n",
       "42261  42262      06/14/2020       Zhejiang  Mainland China   \n",
       "\n",
       "               Last Update  Confirmed  Deaths  Recovered  \n",
       "42248  2020-06-15 03:33:14       76.0     3.0       73.0  \n",
       "42256  2020-06-15 03:33:14      185.0     2.0      183.0  \n",
       "42261  2020-06-15 03:33:14     1268.0     1.0     1267.0  "
      ]
     },
     "execution_count": 1,
     "metadata": {},
     "output_type": "execute_result"
    }
   ],
   "source": [
    "import nbinteract as nbi\n",
    "import pandas as pd\n",
    "import numpy as np\n",
    "import matplotlib.pyplot as plt\n",
    "%matplotlib inline\n",
    "import seaborn as sns\n",
    "\n",
    "data_path = \"dataset/covid_19_data_org.csv\"\n",
    "dataset = pd.read_csv(data_path)\n",
    "dataset[\"Country/Region\"]=dataset[\"Country/Region\"].str.strip(' ')\n",
    "countrys=dataset[\"Country/Region\"].unique()\n",
    "countrys.sort()\n",
    "dataset.loc[dataset[\"Country/Region\"]==\"Mainland China\"].tail(3)"
   ]
  },
  {
   "cell_type": "code",
   "execution_count": 2,
   "metadata": {},
   "outputs": [
    {
     "data": {
      "text/plain": [
       "numpy.int64"
      ]
     },
     "execution_count": 2,
     "metadata": {},
     "output_type": "execute_result"
    }
   ],
   "source": [
    "dataset.insert(8, \"Active\", dataset.Confirmed-dataset.Recovered-dataset.Deaths, True) \n",
    "for c in countrys:\n",
    "    cty = dataset.loc[dataset[\"Country/Region\"]==c]\n",
    "    dataset.loc[dataset[\"Country/Region\"]==c,\"First\"]=cty[\"ObservationDate\"].iloc[0]\n",
    "    end=   dataset.loc[dataset[\"Country/Region\"]==c,\"ObservationDate\"]\n",
    "    first= dataset.loc[dataset[\"Country/Region\"]==c,\"First\"]\n",
    "    dataset.loc[dataset[\"Country/Region\"]==c,\"Days\"] = (pd.to_datetime(end)-pd.to_datetime(first)).dt.days+1\n",
    "dataset[\"Days\"]=dataset[\"Days\"].astype(np.int64)\n",
    "dataset.insert(11,\"Changed\",False)\n",
    "type(dataset.loc[dataset[\"Country/Region\"]==\"Mainland China\"].iloc[-1].loc['Days'])"
   ]
  },
  {
   "cell_type": "code",
   "execution_count": 3,
   "metadata": {},
   "outputs": [],
   "source": [
    "dataset2=dataset\n",
    "for c in countrys:\n",
    "    if dataset.loc[dataset[\"Country/Region\"]==c][\"Province/State\"].unique().shape[0] > 1 :\n",
    "        for x in range(dataset.loc[dataset[\"Country/Region\"]==c].iloc[-1].loc['Days']):\n",
    "            a=x+1\n",
    "            if dataset.loc[dataset[\"Country/Region\"]==c].loc[dataset.Days==a].empty==False:\n",
    "                ctr = dataset.loc[dataset[\"Country/Region\"]==c].loc[dataset.Days==a]\n",
    "                ctr2 = dataset.loc[dataset[\"Country/Region\"]==c].loc[dataset.Days==a]\n",
    "                \n",
    "                ctr2.loc['Column_Total']= ctr.iloc[0]\n",
    "                ctr2.loc['Column_Total','Confirmed']= ctr.sum(numeric_only=True, axis=0).loc['Confirmed']\n",
    "                ctr2.loc['Column_Total','Deaths']= ctr.sum(numeric_only=True, axis=0).loc['Deaths']\n",
    "                ctr2.loc['Column_Total','Recovered']= ctr.sum(numeric_only=True, axis=0).loc['Recovered']\n",
    "                ctr2.loc['Column_Total','Active']= ctr.sum(numeric_only=True, axis=0).loc['Active']\n",
    "                ctr2.loc['Column_Total','Province/State']= dataset.loc[dataset[\"Country/Region\"]==\"Turkey\"].iloc[0][\"Province/State\"]\n",
    "                ctr2.loc['Column_Total','Changed'] = True\n",
    "                ctr.iloc[0]=ctr2.loc['Column_Total']\n",
    "                ctr=ctr.iloc[0]\n",
    "                #print(ctr)\n",
    "                dataset2=dataset2.append(ctr,ignore_index=True)\n",
    "\n",
    "\n",
    "\n"
   ]
  },
  {
   "cell_type": "code",
   "execution_count": 4,
   "metadata": {},
   "outputs": [],
   "source": [
    "dataset2=dataset2[dataset2[\"Changed\"]==True]\n",
    "for c in countrys:\n",
    "    if dataset.loc[dataset[\"Country/Region\"]==c][\"Province/State\"].unique().shape[0] > 1 :\n",
    "        dataset=dataset[dataset[\"Country/Region\"]!=c]\n",
    "dataset=dataset[dataset[\"Country/Region\"]!=\"Diamond Princess\"]\n",
    "dataset=dataset.append(dataset2)\n",
    "dataset=dataset.drop(columns=[\"Province/State\", \"Changed\"])"
   ]
  },
  {
   "cell_type": "code",
   "execution_count": 5,
   "metadata": {},
   "outputs": [
    {
     "data": {
      "text/plain": [
       "<matplotlib.axes._subplots.AxesSubplot at 0x7fc83de1e880>"
      ]
     },
     "execution_count": 5,
     "metadata": {},
     "output_type": "execute_result"
    },
    {
     "data": {
      "image/png": "[encoded data removed]",
      "text/plain": [
       "<Figure size 432x288 with 1 Axes>"
      ]
     },
     "metadata": {
      "needs_background": "light"
     },
     "output_type": "display_data"
    }
   ],
   "source": [
    "import matplotlib.pyplot as plt\n",
    "%matplotlib inline\n",
    "import seaborn as sns\n",
    "sns.lineplot(y=dataset[dataset[\"Country/Region\"]==\"Mainland China\"][\"Confirmed\"],x=dataset[dataset[\"Country/Region\"]==\"Mainland China\"][\"Days\"])"
   ]
  },
  {
   "cell_type": "code",
   "execution_count": 6,
   "metadata": {},
   "outputs": [],
   "source": [
    "data_path = \"dataset/population_org.csv\"\n",
    "population = pd.read_csv(data_path)\n"
   ]
  },
  {
   "cell_type": "code",
   "execution_count": 7,
   "metadata": {},
   "outputs": [],
   "source": [
    "population=population.sort_values(by=[\"country\"])\n",
    "\n",
    "d = {'country': population.country, 'population': population[\"pop\"]}\n",
    "population=pd.DataFrame(data=d)\n",
    "population=population.dropna(subset = [\"population\"])\n",
    "population[\"country\"]=population[\"country\"].str.strip('*')\n",
    "population=population.replace(\"Cote d'Ivoire\",'Ivory Coast')\n",
    "population=population.replace('China','Mainland China')\n",
    "population=population.replace('Korea, South','South Korea')\n",
    "population=population.replace('United Kingdom','UK')\n",
    "population=population.replace('Czechia','Czech Republic')\n",
    "population[\"population\"]=population[\"population\"].str.replace(',', '', regex=False).astype(float)\n",
    "population.loc[-1] = ['Hong Kong', 7496981]  # adding a row\n",
    "population=population[population[\"country\"]!=\"Diamond Princess\"]\n",
    "\n",
    "population.index = population.index + 1 "
   ]
  },
  {
   "cell_type": "code",
   "execution_count": 8,
   "metadata": {},
   "outputs": [],
   "source": [
    "c_intersect=np.setdiff1d(np.array(dataset[\"Country/Region\"].unique()), population.country.unique())\n",
    "#np.intersect1d(population.country.unique(), np.array(dataset[\"Country/Region\"].unique()))\n"
   ]
  },
  {
   "cell_type": "code",
   "execution_count": 9,
   "metadata": {},
   "outputs": [],
   "source": [
    "for c in c_intersect:\n",
    "        dataset=dataset[dataset[\"Country/Region\"]!=c]\n"
   ]
  },
  {
   "cell_type": "code",
   "execution_count": 10,
   "metadata": {},
   "outputs": [
    {
     "data": {
      "text/plain": [
       "array([], dtype=object)"
      ]
     },
     "execution_count": 10,
     "metadata": {},
     "output_type": "execute_result"
    }
   ],
   "source": [
    "np.setdiff1d(population.country.unique(),np.array(dataset[\"Country/Region\"].unique()))\n"
   ]
  },
  {
   "cell_type": "code",
   "execution_count": 11,
   "metadata": {},
   "outputs": [
    {
     "data": {
      "text/plain": [
       "array([], dtype=object)"
      ]
     },
     "execution_count": 11,
     "metadata": {},
     "output_type": "execute_result"
    }
   ],
   "source": [
    "np.setdiff1d(np.array(dataset[\"Country/Region\"].unique()), population.country.unique())\n"
   ]
  },
  {
   "cell_type": "code",
   "execution_count": 12,
   "metadata": {},
   "outputs": [
    {
     "name": "stderr",
     "output_type": "stream",
     "text": [
      "/home/emre/venv/lib/python3.8/site-packages/pandas/core/indexing.py:671: SettingWithCopyWarning: \n",
      "A value is trying to be set on a copy of a slice from a DataFrame\n",
      "\n",
      "See the caveats in the documentation: https://pandas.pydata.org/pandas-docs/stable/user_guide/indexing.html#returning-a-view-versus-a-copy\n",
      "  self._setitem_with_indexer(indexer, value)\n",
      "/home/emre/venv/lib/python3.8/site-packages/pandas/core/indexing.py:966: SettingWithCopyWarning: \n",
      "A value is trying to be set on a copy of a slice from a DataFrame.\n",
      "Try using .loc[row_indexer,col_indexer] = value instead\n",
      "\n",
      "See the caveats in the documentation: https://pandas.pydata.org/pandas-docs/stable/user_guide/indexing.html#returning-a-view-versus-a-copy\n",
      "  self.obj[item] = s\n"
     ]
    }
   ],
   "source": [
    "population.insert(1,\"Changed\",False)\n",
    "\n",
    "pop2=population\n",
    "for c in countrys:\n",
    "    if population.loc[population[\"country\"]==c].duplicated(\"country\").any():\n",
    "        cr = population.loc[population[\"country\"]==c]\n",
    "        cr2 = population.loc[population[\"country\"]==c]\n",
    "        \n",
    "        cr2.loc['Column_Total']= cr.iloc[0]\n",
    "        cr2.loc['Column_Total','population']= cr.sum(numeric_only=True, axis=0).loc['population']\n",
    "        cr2.loc['Column_Total','Changed'] = True\n",
    "        cr=cr2.loc['Column_Total']\n",
    "        #cr=cr.iloc[0]\n",
    "        #print(ctr)\n",
    "        pop2=pop2.append(cr,ignore_index=True)\n",
    "pop2=pop2[pop2[\"Changed\"]==True]\n",
    "for c in countrys:\n",
    "    if population.loc[population[\"country\"]==c].duplicated(\"country\").any():\n",
    "        population=population[population[\"country\"]!=c]\n",
    "population=population.append(pop2)\n",
    "population=population.drop(columns=[\"Changed\"])"
   ]
  },
  {
   "cell_type": "code",
   "execution_count": 13,
   "metadata": {},
   "outputs": [],
   "source": [
    "population.to_csv(r'dataset/population.csv', index = False)\n",
    "dataset.to_csv(r'dataset/covid_19_data.csv', index = False)"
   ]
  }
 ],
 "metadata": {
  "kernelspec": {
   "display_name": "Python 3",
   "language": "python",
   "name": "python3"
  },
  "language_info": {
   "codemirror_mode": {
    "name": "ipython",
    "version": 3
   },
   "file_extension": ".py",
   "mimetype": "text/x-python",
   "name": "python",
   "nbconvert_exporter": "python",
   "pygments_lexer": "ipython3",
   "version": "3.8.2"
  }
 },
 "nbformat": 4,
 "nbformat_minor": 4
}
